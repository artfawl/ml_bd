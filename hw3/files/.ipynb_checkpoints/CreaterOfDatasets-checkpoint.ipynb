{
 "cells": [
  {
   "cell_type": "code",
   "execution_count": 17,
   "id": "07a65ec4",
   "metadata": {},
   "outputs": [],
   "source": [
    "import pandas as pd\n",
    "import numpy as np\n",
    "from sklearn.model_selection import train_test_split"
   ]
  },
  {
   "cell_type": "code",
   "execution_count": 8,
   "id": "86f0d18c",
   "metadata": {},
   "outputs": [],
   "source": [
    "X1 = np.random.uniform(-1, 1, (1000, 3))"
   ]
  },
  {
   "cell_type": "code",
   "execution_count": 12,
   "id": "125ef745",
   "metadata": {},
   "outputs": [],
   "source": [
    "X2 = np.random.normal(2, 5, (1000, 2))"
   ]
  },
  {
   "cell_type": "code",
   "execution_count": 14,
   "id": "b2546dec",
   "metadata": {},
   "outputs": [],
   "source": [
    "X_train = np.hstack([X1, X2])"
   ]
  },
  {
   "cell_type": "code",
   "execution_count": 25,
   "id": "ed701a0e",
   "metadata": {},
   "outputs": [],
   "source": [
    "y = X @ np.random.uniform(-5, 5, (5, 1)) + np.random.uniform(5, 8, (1000,1))"
   ]
  },
  {
   "cell_type": "code",
   "execution_count": 27,
   "id": "85cc4fd2",
   "metadata": {},
   "outputs": [],
   "source": [
    "X_train, X_test, y_train, y_test = train_test_split(X, y, test_size=0.3)"
   ]
  },
  {
   "cell_type": "code",
   "execution_count": 28,
   "id": "5978a99a",
   "metadata": {},
   "outputs": [],
   "source": [
    "train = pd.DataFrame(np.hstack([X_train, y_train]))"
   ]
  },
  {
   "cell_type": "code",
   "execution_count": 30,
   "id": "0b64e993",
   "metadata": {},
   "outputs": [],
   "source": [
    "test = pd.DataFrame(np.hstack([X_test, y_test]))"
   ]
  },
  {
   "cell_type": "code",
   "execution_count": 32,
   "id": "031ecd6f",
   "metadata": {},
   "outputs": [],
   "source": [
    "train.to_csv(\"./train.csv\")"
   ]
  },
  {
   "cell_type": "code",
   "execution_count": 33,
   "id": "c754a4ed",
   "metadata": {},
   "outputs": [],
   "source": [
    "test.to_csv(\"./test.csv\")"
   ]
  },
  {
   "cell_type": "code",
   "execution_count": null,
   "id": "03a17e02",
   "metadata": {},
   "outputs": [],
   "source": []
  }
 ],
 "metadata": {
  "kernelspec": {
   "display_name": "Python 3 (ipykernel)",
   "language": "python",
   "name": "python3"
  },
  "language_info": {
   "codemirror_mode": {
    "name": "ipython",
    "version": 3
   },
   "file_extension": ".py",
   "mimetype": "text/x-python",
   "name": "python",
   "nbconvert_exporter": "python",
   "pygments_lexer": "ipython3",
   "version": "3.9.5"
  }
 },
 "nbformat": 4,
 "nbformat_minor": 5
}
