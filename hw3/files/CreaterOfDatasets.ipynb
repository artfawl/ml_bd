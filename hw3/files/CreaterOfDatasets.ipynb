{
 "cells": [
  {
   "cell_type": "code",
   "execution_count": 4,
   "id": "07a65ec4",
   "metadata": {},
   "outputs": [],
   "source": [
    "import pandas as pd\n",
    "import numpy as np\n",
    "from sklearn.model_selection import train_test_split"
   ]
  },
  {
   "cell_type": "code",
   "execution_count": 7,
   "id": "945e5a06",
   "metadata": {},
   "outputs": [],
   "source": [
    "def create_dataset(dim, name, error=lambda: 0):\n",
    "    X = np.random.uniform(-1, 1, dim)\n",
    "    w = np.random.uniform(-1, 1, (X.shape[1], 1))\n",
    "    b = np.random.uniform(-5, 5)\n",
    "    y = X @ w + b + error()\n",
    "    X_train, X_test, y_train, y_test = train_test_split(X, y, test_size=0.3)\n",
    "    train = pd.DataFrame(np.hstack([X_train, y_train]))\n",
    "    test = pd.DataFrame(np.hstack([X_test, y_test]))\n",
    "    train.to_csv(f\"./{name}_train.csv\")\n",
    "    test.to_csv(f\"./{name}_test.csv\")\n",
    "    "
   ]
  },
  {
   "cell_type": "code",
   "execution_count": 8,
   "id": "4b1ac8e3",
   "metadata": {},
   "outputs": [],
   "source": [
    "create_dataset((1000, 5), \"clean\")"
   ]
  },
  {
   "cell_type": "code",
   "execution_count": 9,
   "id": "96532ba0",
   "metadata": {},
   "outputs": [],
   "source": [
    "create_dataset((1000, 5), \"noisy\", lambda: np.random.normal(0, 2, (1000, 5)))"
   ]
  },
  {
   "cell_type": "code",
   "execution_count": null,
   "id": "e4b608e0",
   "metadata": {},
   "outputs": [],
   "source": []
  }
 ],
 "metadata": {
  "kernelspec": {
   "display_name": "Python 3 (ipykernel)",
   "language": "python",
   "name": "python3"
  },
  "language_info": {
   "codemirror_mode": {
    "name": "ipython",
    "version": 3
   },
   "file_extension": ".py",
   "mimetype": "text/x-python",
   "name": "python",
   "nbconvert_exporter": "python",
   "pygments_lexer": "ipython3",
   "version": "3.9.5"
  }
 },
 "nbformat": 4,
 "nbformat_minor": 5
}
